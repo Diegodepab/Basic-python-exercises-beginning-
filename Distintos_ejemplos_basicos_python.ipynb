{
  "nbformat": 4,
  "nbformat_minor": 0,
  "metadata": {
    "colab": {
      "provenance": [],
      "toc_visible": true
    },
    "kernelspec": {
      "name": "python3",
      "display_name": "Python 3"
    },
    "language_info": {
      "name": "python"
    }
  },
  "cells": [
    {
      "cell_type": "markdown",
      "source": [
        "## **Ejercicios Basicos 2020/2021**"
      ],
      "metadata": {
        "id": "F8Q_cgIdyWwR"
      }
    },
    {
      "cell_type": "markdown",
      "source": [
        "Introducción a PYTHON\n",
        "\n",
        "Este código muestra ejercicios muy sencillos de toda indole, lo cree para explicarle un resumen de los 150 ejercicios mandados por el profe, resaltando los más interesantes."
      ],
      "metadata": {
        "id": "7CZ5HVrV3cTx"
      }
    },
    {
      "cell_type": "code",
      "source": [
        "#2.area de un rectangulo dada su base y su altura\n",
        "\n",
        "#input pedimos al teclado:\n",
        "#float tipo de datos (decimal para las computadoras)\n",
        "b   = float(input(\"Base: \"))\n",
        "h = float(input(\"Altura: \"))\n",
        "\n",
        "A = b * h\n",
        "#print: imprime por pantalla\n",
        "print(\"El área del rectángulo de base\",\n",
        "      b, \"y altura\", h, \"es\", A)\n"
      ],
      "metadata": {
        "colab": {
          "base_uri": "https://localhost:8080/"
        },
        "id": "Y_j_-JWL30BL",
        "outputId": "d2616883-b6d9-417e-aaaa-7e23f5756c48"
      },
      "execution_count": 3,
      "outputs": [
        {
          "output_type": "stream",
          "name": "stdout",
          "text": [
            "Base: 5\n",
            "Altura: 10\n",
            "El área del rectángulo de base 5.0 y altura 10.0 es 50.0\n"
          ]
        }
      ]
    },
    {
      "cell_type": "code",
      "source": [
        "# 08.Programa la resolvente dado los coeficientes de una ecuacion de segundo grado\n",
        "\n",
        "print(\"se quiere resolver una ecuación de segundo grado, es decir: \")\n",
        "print(\"Ax^2 + Bx + C = 0\")\n",
        "\n",
        "A= float(input(\"Por favor introduce el valor de A: \"))\n",
        "\n",
        "B= float(input(\"Por favor introduce el valor de B: \"))\n",
        "\n",
        "C= float(input(\"Por favor introduce el valor de C: \"))\n",
        "\n",
        "D=(-B+(B*B-4*A*C)**0.5)/(2*A)\n",
        "\n",
        "print(\"El valor de la primera x es: \", D)\n",
        "E=(-B-(B*B-4*A*C)**0.5)/(2*A)\n",
        "print(\"El valor de la segunda x es: \", E)"
      ],
      "metadata": {
        "id": "JnD749Sd343x"
      },
      "execution_count": null,
      "outputs": []
    },
    {
      "cell_type": "markdown",
      "source": [
        "Introducción al If"
      ],
      "metadata": {
        "id": "75ovaZvc4paB"
      }
    },
    {
      "cell_type": "code",
      "source": [
        "print(\"Bienvenido al programa 00 para comprobar si un número es par\")\n",
        "A= int(input(\"Por favor introduce tu número entero a evaluar \"))\n",
        "\n",
        "if A%2 == 0:\n",
        "    print(\"El número es par\")\n",
        "else:\n",
        "    print(\"El número NO es par\")"
      ],
      "metadata": {
        "id": "nvPil0Qg481K"
      },
      "execution_count": null,
      "outputs": []
    },
    {
      "cell_type": "code",
      "source": [
        "print(\"Bienvenido al programa 09 para comprobar si un número es un cuadrado perfecto\")\n",
        "A= float(input(\"Por favor introduce tu número a evaluar \"))\n",
        "\n",
        "raiz = (A)**0.5\n",
        "if int(raiz) ** 2 == A:\n",
        "    B=True\n",
        "else:\n",
        "    B=False\n",
        "\n",
        "print(\"¿el número es un cuadrado perfecto?\", B)"
      ],
      "metadata": {
        "id": "WA7TXvvT5W7T"
      },
      "execution_count": null,
      "outputs": []
    },
    {
      "cell_type": "code",
      "source": [
        "print(\"Bienvenido al programa 10 para comprobar si una palabra es palindroma (se lee igual al derecho o al revés)\")\n",
        "A= str(input(\"Por favor introduce tu palabra a evaluar \"))\n",
        "\n",
        "if A==A[::-1]:\n",
        "    print(\"La palabra SI es palindroma\")\n",
        "    b=True\n",
        "else:\n",
        "    print(\"La palabra NO es palindroma\")\n",
        "    b=False\n",
        "\n",
        "print(\"La palabra\", A, \"se escribe al revés como:\", A[::-1])"
      ],
      "metadata": {
        "id": "ScXE6SRY5ldY"
      },
      "execution_count": null,
      "outputs": []
    },
    {
      "cell_type": "markdown",
      "source": [
        "Introduccion a bucles (for o while)\n"
      ],
      "metadata": {
        "id": "35Yl2_fo54S7"
      }
    },
    {
      "cell_type": "code",
      "source": [
        "#ejemplo de bucle for,\n",
        "N =int(input(\"introduce el valor para n factorial: \"))\n",
        "A=1\n",
        "\n",
        "for i in range(2,N+1):\n",
        "    A=A*i\n",
        "    #se acaba el bucle, vuelve a iterar hasta que i pasara de 2 hasta N+1\n",
        "\n",
        "print(\"el factorial de\", N, \"es:\",A)"
      ],
      "metadata": {
        "colab": {
          "base_uri": "https://localhost:8080/"
        },
        "id": "thyZZsfw6LMD",
        "outputId": "b1dbea55-59f2-426c-82b3-aaab56aa8bb7"
      },
      "execution_count": 4,
      "outputs": [
        {
          "output_type": "stream",
          "name": "stdout",
          "text": [
            "introduce el valor para n factorial: 3\n",
            "el factorial de 3 es: 6\n"
          ]
        }
      ]
    },
    {
      "cell_type": "code",
      "source": [
        "#ejemplo con while, calcular mediante taylor la aproximación de la función exponencial\n",
        "x = 1\n",
        "n = 10 #num de terminos\n",
        "s = 1 #valor de la suma inicial\n",
        "fact = 1 #factorial\n",
        "epsilon=0.01\n",
        "i=1 #contador\n",
        "term=1 #valor inicial del termino\n",
        "while term>epsilon:\n",
        "    fact *= i\n",
        "    term = x**i / fact\n",
        "    s += term\n",
        "    i+=1\n",
        "print (\"e**\", x, \"=\", s)"
      ],
      "metadata": {
        "colab": {
          "base_uri": "https://localhost:8080/"
        },
        "id": "abxnZPU36PRo",
        "outputId": "1ac3db6b-fca6-4ba1-8a36-8b8934afcdc9"
      },
      "execution_count": 8,
      "outputs": [
        {
          "output_type": "stream",
          "name": "stdout",
          "text": [
            "e** 1 = 2.7166666666666663\n"
          ]
        }
      ]
    },
    {
      "cell_type": "markdown",
      "source": [
        "Otros usos del bucle (problemas de Eduardo Saenz)"
      ],
      "metadata": {
        "id": "qGS0RgQX8EhK"
      }
    },
    {
      "cell_type": "code",
      "source": [
        "print(\"Bienvenido al programa 06 para ver si un número es perfecto\")\n",
        "numero=int(input(\"Por favor introduce un número entero: \"))\n",
        "i=1\n",
        "A=0\n",
        "while numero!=i:\n",
        "    if numero%i==0:\n",
        "        A+=i\n",
        "    i+=1\n",
        "\n",
        "print(\"la suma de todos los divisores es: \",A)\n",
        "\n",
        "if A==numero:\n",
        "    print(\"por lo tanto\", numero, \"es un número perfecto\")\n",
        "else:\n",
        "    print(\"por lo tanto\", numero, \"NO es un número perfecto\")"
      ],
      "metadata": {
        "id": "Xcg-25uM8Tc6"
      },
      "execution_count": null,
      "outputs": []
    },
    {
      "cell_type": "code",
      "source": [
        "print(\"Bienvenido al programa 07 para ver si un número es primo\")\n",
        "numero=int(input(\"Por favor introduce un número entero: \"))\n",
        "primo=True\n",
        "\n",
        "for i in range (2,numero):\n",
        "    if numero%i==0:\n",
        "        primo=False\n",
        "\n",
        "if primo:\n",
        "    print(\"el número si es primo\")\n",
        "else:\n",
        "    print(\"Lamento informarte que el número no es primo\")"
      ],
      "metadata": {
        "id": "4qWBbda88UAr"
      },
      "execution_count": null,
      "outputs": []
    },
    {
      "cell_type": "code",
      "source": [
        "\n",
        "print(\"Bienvenido al programa 08 para ver si dos números son amigos\")\n",
        "numero=int(input(\"Por favor introduce un número entero: \"))\n",
        "numero2=int(input(\"Por favor introduce un número entero: \"))\n",
        "i=1\n",
        "A=0\n",
        "B=0\n",
        "while numero!=i:\n",
        "    if numero%i==0:\n",
        "        A+=i\n",
        "    i+=1\n",
        "\n",
        "for j in range(1,numero2):\n",
        "    if numero2%j==0:\n",
        "        B+=j\n",
        "\n",
        "print(\"La suma de los divisores de \", numero, \"es igual a: \", A, \"mientras que para \", numero2, \"es igual a \", B)\n",
        "\n",
        "if A==numero2 and B==numero:\n",
        "    print(\"Los números introducidos si son amigos :)\")\n",
        "else:\n",
        "    print(\"Los números introducidos NO son amigos\")"
      ],
      "metadata": {
        "id": "OKDTwOFv8XeZ"
      },
      "execution_count": null,
      "outputs": []
    },
    {
      "cell_type": "markdown",
      "source": [
        "Control de bucles (Dibujo de formas geometricas con bucles)"
      ],
      "metadata": {
        "id": "kPjwdkYb9ERh"
      }
    },
    {
      "cell_type": "code",
      "source": [
        "# 06.dibujo.rombo.hueco\n",
        "n=int(input(\"Por favor introduce la altura: \"))\n",
        "\n",
        "for linea in range (0, n):\n",
        "    for i in range (n-linea-1):\n",
        "        print(\" \", end=\"\")\n",
        "    print(\"*\", end=\"\")\n",
        "    for i in range (linea*2-1):\n",
        "        print((\" \"), end=\"\")\n",
        "    if linea>0:\n",
        "        print(\"*\", end=\"\")\n",
        "    for i in range (n-linea):\n",
        "        print(\" \", end=\"\")\n",
        "    print()\n",
        "\n",
        "for linea in range (1, n):\n",
        "    for i in range (linea):\n",
        "        print(\" \", end=\"\")\n",
        "    print(\"*\",end=\"\")\n",
        "    for i in range ((n-linea)*2-3):\n",
        "        print((\" \"), end=\"\")\n",
        "    if linea!=(n-1):\n",
        "        print(\"*\",end=\"\")\n",
        "    for i in range (linea):\n",
        "        print(\" \", end=\"\")\n",
        "    print()"
      ],
      "metadata": {
        "colab": {
          "base_uri": "https://localhost:8080/"
        },
        "id": "Ky3Xwiqy9JzZ",
        "outputId": "679600bf-1f1f-4178-f1bd-96b5b38e93dd"
      },
      "execution_count": 10,
      "outputs": [
        {
          "output_type": "stream",
          "name": "stdout",
          "text": [
            "Por favor introduce la altura: 5\n",
            "    *     \n",
            "   * *    \n",
            "  *   *   \n",
            " *     *  \n",
            "*       * \n",
            " *     * \n",
            "  *   *  \n",
            "   * *   \n",
            "    *    \n"
          ]
        }
      ]
    },
    {
      "cell_type": "code",
      "source": [
        "# 10.dibujo de sierras (te dan la altura y la cnt de sierras)\n",
        "h=int(input(\"Por favor introduce la altura: \"))\n",
        "n=int(input(\"número de sierras: \"))\n",
        "\n",
        "for linea in range (0, h):\n",
        "    for e in range (0,n):\n",
        "        for i in range (h-linea-1):\n",
        "            print(\" \", end=\"\")\n",
        "        print(\"*\", end=\"\")\n",
        "        for i in range (linea*2-1):\n",
        "            print((\" \"), end=\"\")\n",
        "        if linea>0:\n",
        "            print(\"*\", end=\"\")\n",
        "        for i in range (h-linea):\n",
        "            print(\" \", end=\"\")\n",
        "    print()\n"
      ],
      "metadata": {
        "colab": {
          "base_uri": "https://localhost:8080/"
        },
        "id": "ZnmPfSjN9M7q",
        "outputId": "19f8b5c2-2300-417c-9980-bf7f86f00dbd"
      },
      "execution_count": 11,
      "outputs": [
        {
          "output_type": "stream",
          "name": "stdout",
          "text": [
            "Por favor introduce la altura: 5\n",
            "número de sierras: 3\n",
            "    *         *         *     \n",
            "   * *       * *       * *    \n",
            "  *   *     *   *     *   *   \n",
            " *     *   *     *   *     *  \n",
            "*       * *       * *       * \n"
          ]
        }
      ]
    },
    {
      "cell_type": "markdown",
      "source": [
        "Creacion y uso de funciones\n"
      ],
      "metadata": {
        "id": "_jsS3vW29sKp"
      }
    },
    {
      "cell_type": "code",
      "source": [
        "#17 crea un programa para ver los numeros primos hasta N mediante el uso de llamada una funcion y mostrando dicho primo\n",
        "def primo(numero):\n",
        "    p=True\n",
        "\n",
        "    for i in range (2,numero):\n",
        "        if numero%i==0:\n",
        "            p=False\n",
        "    return p\n",
        "\n",
        "print(\"Bienvenido al programa 17 para ver si un número es primo\")\n",
        "e=0\n",
        "for numero in range (2, 1002):\n",
        "    if primo(numero):\n",
        "        print(numero)\n",
        "        e+=1\n",
        "\n",
        "print(\"hay \",e, \"numeros primos entre el 1 al 1000\")"
      ],
      "metadata": {
        "id": "lSGP0kxm9uja"
      },
      "execution_count": null,
      "outputs": []
    },
    {
      "cell_type": "code",
      "source": [
        "#programa mediante una funcion, un metodo que calcule la regresion lineal de una lista de listas\n",
        "def regrLineal(dat):\n",
        "    sumatoriaX=0\n",
        "    sumatoriay=0\n",
        "    multiplicacion=0\n",
        "    potencia2=0\n",
        "    for i in range(len(dat)):\n",
        "        sumatoriaX+=dat[i][0]\n",
        "        sumatoriay+=dat[i][1]\n",
        "        multiplicacion+=dat[i][0]*dat[i][1]\n",
        "        potencia2+=dat[i][0]*dat[i][0]\n",
        "    a=(sumatoriay/len(dat))-(sumatoriaX/len(dat))*((multiplicacion-(sumatoriaX*sumatoriay/len(dat)))/(potencia2-sumatoriaX*sumatoriaX/len(dat)))\n",
        "    b=(sumatoriay-a*len(dat))/sumatoriaX\n",
        "    return a, b\n",
        "\n",
        "dat=[[2,3],[8,11],[9,13]]\n",
        "\n",
        "print(regrLineal(dat))"
      ],
      "metadata": {
        "colab": {
          "base_uri": "https://localhost:8080/"
        },
        "id": "m1kGeupp-xG8",
        "outputId": "ae575ccd-45af-42c1-97ef-2ac15166b503"
      },
      "execution_count": 15,
      "outputs": [
        {
          "output_type": "stream",
          "name": "stdout",
          "text": [
            "(0.16279069767442067, 1.395348837209302)\n"
          ]
        }
      ]
    },
    {
      "cell_type": "markdown",
      "source": [
        "Mejor manejo de strings"
      ],
      "metadata": {
        "id": "p4fRY382_XgC"
      }
    },
    {
      "cell_type": "code",
      "source": [
        "#crear una funcion que confirme que tengan las mismas letras 2 cadenas de texto\n",
        "def mismoconjuntodeletras(s1,s2):\n",
        "    i=0\n",
        "    while i<len(s1) and s1[i] in s2:\n",
        "        i+=1\n",
        "    return i==len(s1)\n",
        "\n",
        "def MismasLetras(s1,s2):\n",
        "    return primeraensegunda(s1,s2) and primeraensegunda(s2,s1)\n",
        "\n",
        "print (mismoconjuntodeletras(\"hola como estas\",\"hola como estasssssss\"))\n",
        ""
      ],
      "metadata": {
        "colab": {
          "base_uri": "https://localhost:8080/"
        },
        "id": "XuW6VJZE_bFj",
        "outputId": "e083181e-18bd-4381-bc9c-ce7a8e4b7dca"
      },
      "execution_count": 18,
      "outputs": [
        {
          "output_type": "stream",
          "name": "stdout",
          "text": [
            "False\n"
          ]
        }
      ]
    },
    {
      "cell_type": "code",
      "source": [
        "#programar una función split manualmente\n",
        "def quitafecha(cadena):\n",
        "    n1=find(cadena,\"-\")\n",
        "    lista1=cadena[n1+2:]\n",
        "    return lista1\n",
        "\n",
        "\n",
        "def find(s,x):\n",
        "    i = 0\n",
        "    while i < len(s) and s[i] != x:\n",
        "        i += 1\n",
        "    if i == len(s):\n",
        "        return -1\n",
        "    else:\n",
        "        return i\n",
        "\n",
        "print(quitafecha(\"02/03/16, 21:03 - Leonard: ¿Deberíamos haberla invitado a almorzar?\"))\n",
        "\n",
        "print(quitafecha(\"02/03/16, 21:17 - Sheldon: No. Vamos a comenzar la segunda temporada de Battlestar Galactica.\"))"
      ],
      "metadata": {
        "colab": {
          "base_uri": "https://localhost:8080/"
        },
        "id": "bQNZEnLRAXoJ",
        "outputId": "59b030b5-27a3-4bf0-d8c9-553d6a80fdab"
      },
      "execution_count": 19,
      "outputs": [
        {
          "output_type": "stream",
          "name": "stdout",
          "text": [
            "Leonard: ¿Deberíamos haberla invitado a almorzar?\n",
            "Sheldon: No. Vamos a comenzar la segunda temporada de Battlestar Galactica.\n"
          ]
        }
      ]
    },
    {
      "cell_type": "code",
      "source": [
        "# dada una lista de aminoacidos posibles (ver al final del codigo la tabla proporcionada, encontrar la moda)\n",
        "\n",
        "def values(codontab):\n",
        "    s=\"\"\n",
        "    for k in codontab:\n",
        "        s+= codontab[k]\n",
        "    return s\n",
        "\n",
        "\n",
        "def aanombrelista(aa):\n",
        "    lista=[]\n",
        "    for i in aa:\n",
        "        lista.append(codontab2 [ i ])\n",
        "    return lista\n",
        "\n",
        "def contar(lista, valor):\n",
        "    cnt=0\n",
        "    for i in lista:\n",
        "        if i ==valor:\n",
        "            cnt+=1\n",
        "    return cnt\n",
        "\n",
        "def moda(lista):\n",
        "    lista=sorted(lista)\n",
        "    moda=0\n",
        "    tendencia=\"\"\n",
        "    maximo=0\n",
        "    cnt=0\n",
        "    for x in lista:\n",
        "        if x!= lista[cnt+1]:\n",
        "            t=contar(lista,x)\n",
        "            if t>maximo:\n",
        "                moda=x\n",
        "                maximo=t\n",
        "                tendencia=x\n",
        "            elif t==maximo and x!=moda:\n",
        "                tendencia+=\" \"\n",
        "                tendencia+=x\n",
        "                moda=None\n",
        "        cnt+=1\n",
        "        if cnt==len(lista)-1:\n",
        "            cnt=0\n",
        "\n",
        "    return moda, tendencia\n",
        "\n",
        "\n",
        "codontab = {\n",
        "    'TCA': 'S',    # Serina\n",
        "    'TCC': 'S',    # Serina\n",
        "    'TCG': 'S',    # Serina\n",
        "    'TCT': 'S',    # Serina\n",
        "    'TTC': 'F',    # Fenilalanina\n",
        "    'TTT': 'F',    # Fenilalanina\n",
        "    'TTA': 'L',    # Leucina\n",
        "    'TTG': 'L',    # Leucina\n",
        "    'TAC': 'Y',    # Tirosina\n",
        "    'TAT': 'Y',    # Tirosina\n",
        "    'TAA': '*',    # Stop\n",
        "    'TAG': '*',    # Stop\n",
        "    'TGC': 'C',    # Cisteina\n",
        "    'TGT': 'C',    # Cisteina\n",
        "    'TGA': '*',    # Stop\n",
        "    'TGG': 'W',    # Triptofano\n",
        "    'CTA': 'L',    # Leucina\n",
        "    'CTC': 'L',    # Leucina\n",
        "    'CTG': 'L',    # Leucina\n",
        "    'CTT': 'L',    # Leucina\n",
        "    'CCA': 'P',    # Prolina\n",
        "    'CCC': 'P',    # Prolina\n",
        "    'CCG': 'P',    # Prolina\n",
        "    'CCT': 'P',    # Prolina\n",
        "    'CAC': 'H',    # Histidina\n",
        "    'CAT': 'H',    # Histidina\n",
        "    'CAA': 'Q',    # Glutamina\n",
        "    'CAG': 'Q',    # Glutamina\n",
        "    'CGA': 'R',    # Arginina\n",
        "    'CGC': 'R',    # Arginina\n",
        "    'CGG': 'R',    # Arginina\n",
        "    'CGT': 'R',    # Arginina\n",
        "    'ATA': 'I',    # Isoleucina\n",
        "    'ATC': 'I',    # Isoleucina\n",
        "    'ATT': 'I',    # Isoleucina\n",
        "    'ATG': 'M',    # Methionina\n",
        "    'ACA': 'T',    # Treonina\n",
        "    'ACC': 'T',    # Treonina\n",
        "    'ACG': 'T',    # Treonina\n",
        "    'ACT': 'T',    # Treonina\n",
        "    'AAC': 'N',    # Asparagina\n",
        "    'AAT': 'N',    # Asparagina\n",
        "    'AAA': 'K',    # Lisina\n",
        "    'AAG': 'K',    # Lisina\n",
        "    'AGC': 'S',    # Serina\n",
        "    'AGT': 'S',    # Serina\n",
        "    'AGA': 'R',    # Arginina\n",
        "    'AGG': 'R',    # Arginina\n",
        "    'GTA': 'V',    # Valina\n",
        "    'GTC': 'V',    # Valina\n",
        "    'GTG': 'V',    # Valina\n",
        "    'GTT': 'V',    # Valina\n",
        "    'GCA': 'A',    # Alanina\n",
        "    'GCC': 'A',    # Alanina\n",
        "    'GCG': 'A',    # Alanina\n",
        "    'GCT': 'A',    # Alanina\n",
        "    'GAC': 'D',    # Acido Aspartico\n",
        "    'GAT': 'D',    # Acido Aspartico\n",
        "    'GAA': 'E',    # Acido Glutamico\n",
        "    'GAG': 'E',    # Acido Glutamico\n",
        "    'GGA': 'G',    # Glicina\n",
        "    'GGC': 'G',    # Glicina\n",
        "    'GGG': 'G',    # Glicina\n",
        "    'GGT': 'G'     # Glicina\n",
        "}\n",
        "\n",
        "\n",
        "codontab2 = {\n",
        "    'S':  \"Serina\",\n",
        "    'F':     \"Fenilalanina\",\n",
        "    'L':     \"Leucina\",\n",
        "    'Y':     \"Tirosina\",\n",
        "    'C':     \"Cisteina\",\n",
        "    '*':    \"Stop\",\n",
        "    'W':    \"Triptofano\",\n",
        "    'P':    \"Prolina\",\n",
        "    'H':    \"Histidina\",\n",
        "    'Q':    \"Glutamina\",\n",
        "    'R':    \"Arginina\",\n",
        "    'I':   \"Isoleucina\",\n",
        "    'M':    \"Methionina\",\n",
        "    'T':    \"Treonina\",\n",
        "    'N':    \"Asparagina\",\n",
        "    'K':    \"Lisina\",\n",
        "    'S':    \"Serina\",\n",
        "    'V':    \"Valina\",\n",
        "    'A':    \"Alanina\",\n",
        "    'D':    \"Acido Aspartico\",\n",
        "    'E':    \"Acido Glutamico\",\n",
        "    'G':    \"Glicina\"\n",
        "\n",
        "}\n",
        "\n",
        "\n",
        "print(moda(aanombrelista(values(codontab))))\n"
      ],
      "metadata": {
        "colab": {
          "base_uri": "https://localhost:8080/"
        },
        "id": "WAAXVBlBAn6i",
        "outputId": "e0a9abc9-2675-4e73-b2b0-06ab4adcb452"
      },
      "execution_count": 20,
      "outputs": [
        {
          "output_type": "stream",
          "name": "stdout",
          "text": [
            "(None, 'Arginina Leucina Serina')\n"
          ]
        }
      ]
    },
    {
      "cell_type": "markdown",
      "source": [
        "apertura de ficheros"
      ],
      "metadata": {
        "id": "10RGAlDQBeC7"
      }
    },
    {
      "cell_type": "code",
      "source": [
        "#lea un fichero dado y calcule su media, su desviacion y sus estadisticas.\n",
        "def leeficheros(nomfic):\n",
        "    f=open(nomfic, \"r\")\n",
        "    #Se usa \"r\" para abrir el fichero en forma de lectura\n",
        "    r=[]\n",
        "    for linea in f:\n",
        "        for n in linea.split():\n",
        "            r.append(float(n))\n",
        "    return r\n",
        "\n",
        "def media(lista):\n",
        "    suma=0\n",
        "    for i in lista:\n",
        "        suma+=i\n",
        "    return suma/len(lista)\n",
        "\n",
        "def desviacion_estandar(lista, promedio):\n",
        "    suma=0\n",
        "    for valor in lista:\n",
        "        suma+=(valor-promedio)**2\n",
        "    desviacion=(suma/(len(lista)-1))**0.5\n",
        "    return desviacion\n",
        "\n",
        "def estadistica(nomfic):\n",
        "    lista=leeficheros(nomfic)\n",
        "    promedio=media(lista)\n",
        "    desviacion=desviacion_estandar(lista, promedio)\n",
        "    return promedio, desviacion\n",
        "\n",
        "#------------------------------------------\n",
        "\n",
        "print(estadistica(\"nombre_fichero.txt\"))\n"
      ],
      "metadata": {
        "id": "mwbwGtTfBhIy"
      },
      "execution_count": null,
      "outputs": []
    },
    {
      "cell_type": "code",
      "source": [
        "def leemaxmin(nomfic):\n",
        "    f=open(nomfic)\n",
        "    dic={}\n",
        "    lista=[]\n",
        "    for linea in f:\n",
        "        numeros=linea.strip().split()\n",
        "        fecha  = str(numeros[0])\n",
        "        maxi     = float(numeros[1])\n",
        "        mini    = float(numeros[2])\n",
        "        dic={ \"fecha\":   fecha,\"max\": maxi, \"min\":   mini}\n",
        "        lista.append(dic)\n",
        "    return lista\n",
        "\n",
        "def tuplamaxmin(dia):\n",
        "    condicion=False\n",
        "    cnt=0\n",
        "    while condicion==False and cnt<=len(maxmin):\n",
        "        if maxmin[cnt][\"fecha\"]==dia:\n",
        "            tupla=(maxmin[cnt][\"max\"],maxmin[cnt][\"min\"])\n",
        "            condicion=True\n",
        "        cnt+=1\n",
        "    return tupla\n",
        "\n",
        "def mediaDiaMes(lista, diames):\n",
        "    media=0\n",
        "    cnt=0\n",
        "    for i in lista:\n",
        "        if i[\"fecha\"].startswith(diames):\n",
        "            media+= ((float(i[\"max\"])+float(i[\"min\"]))/2)\n",
        "            cnt+=1\n",
        "    return media/cnt\n",
        "#-----------------------------------\n",
        "maxmin = leemaxmin(\"MalagaAeropuerto-1990-2012.txt\")\n",
        "print(tuplamaxmin(\"13-12-2009\"))\n",
        "print(mediaDiaMes(maxmin,\"21-01\"))\n"
      ],
      "metadata": {
        "id": "wOq7Ide0BxQj"
      },
      "execution_count": null,
      "outputs": []
    }
  ]
}